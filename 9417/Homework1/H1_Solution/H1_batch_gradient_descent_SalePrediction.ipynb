{
 "cells": [
  {
   "cell_type": "code",
   "execution_count": 1,
   "metadata": {},
   "outputs": [],
   "source": [
    "import numpy as np\n",
    "import pandas as pd\n",
    "import matplotlib.pyplot as plt\n",
    "#%matplotlib inline"
   ]
  },
  {
   "cell_type": "code",
   "execution_count": 2,
   "metadata": {},
   "outputs": [],
   "source": [
    "data = pd.read_csv('./Advertising.csv')"
   ]
  },
  {
   "cell_type": "code",
   "execution_count": 3,
   "metadata": {},
   "outputs": [],
   "source": [
    "# construct input and target values\n",
    "data_arr = np.array(data); n = len(data_arr)\n",
    "TV = data_arr[:,1].reshape(n,1)\n",
    "Sales = data_arr[:,4].reshape(n,1)"
   ]
  },
  {
   "cell_type": "code",
   "execution_count": 4,
   "metadata": {},
   "outputs": [],
   "source": [
    "# normalization of feature and target\n",
    "x = np.c_[np.ones((n,1)),(TV-np.min(TV))/(np.max(TV)-np.min(TV))]\n",
    "y = Sales"
   ]
  },
  {
   "cell_type": "code",
   "execution_count": 5,
   "metadata": {},
   "outputs": [],
   "source": [
    "\n",
    "# split training and test set\n",
    "m=190\n",
    "\n",
    "x_train=x[:m]\n",
    "y_train=y[:m]\n",
    "\n",
    "x_test =x[m:]\n",
    "y_test =y[m:]"
   ]
  },
  {
   "cell_type": "code",
   "execution_count": 6,
   "metadata": {},
   "outputs": [
    {
     "name": "stdout",
     "output_type": "stream",
     "text": [
      "initial value of parameters: [[-1. ]\n",
      " [-0.5]]\n"
     ]
    }
   ],
   "source": [
    "# Gradient descent\n",
    "# assing initial parameters \n",
    "w_gd=np.array([-1,-0.5]).reshape(2,1); lr = 0.01; misfit = 10; max_iteration = 500\n",
    "print ('initial value of parameters:', w_gd)"
   ]
  },
  {
   "cell_type": "code",
   "execution_count": 7,
   "metadata": {},
   "outputs": [
    {
     "name": "stdout",
     "output_type": "stream",
     "text": [
      "weight vectors: [[10.11283407]\n",
      " [ 8.27183129]]\n"
     ]
    }
   ],
   "source": [
    "#estimate parameters theta for the advertising problem.\n",
    "cos_func_val=np.zeros((max_iteration,1))\n",
    "\n",
    "for i in range(max_iteration):\n",
    "    thetax = x_train.dot(w_gd)\n",
    "    #gradient of cost function\n",
    "    grad = (1/m)*(np.transpose(x_train).dot(thetax-y_train))\n",
    "    #update weight vectors\n",
    "    w_gd = w_gd - lr*grad\n",
    "    #calculate cost function during iteration for plotting\n",
    "    cos_func_val[i] = (1/m)*(thetax-y_train).T.dot(thetax-y_train)\n",
    "    \n",
    "print('weight vectors:',w_gd)"
   ]
  },
  {
   "cell_type": "code",
   "execution_count": 8,
   "metadata": {},
   "outputs": [
    {
     "data": {
      "image/png": "[encoded data removed]",
      "text/plain": [
       "<Figure size 432x288 with 1 Axes>"
      ]
     },
     "metadata": {
      "needs_background": "light"
     },
     "output_type": "display_data"
    }
   ],
   "source": [
    "#Visualization\n",
    "plt.plot(cos_func_val[0:i])\n",
    "plt.xlabel('iteration number');plt.ylabel('cost function value')\n",
    "plt.show()"
   ]
  },
  {
   "cell_type": "code",
   "execution_count": 9,
   "metadata": {},
   "outputs": [],
   "source": [
    "#sale prediction \n",
    "pred_train = x_train.dot(w_gd)\n",
    "pred_test= x_test.dot(w_gd)"
   ]
  },
  {
   "cell_type": "code",
   "execution_count": 10,
   "metadata": {},
   "outputs": [
    {
     "name": "stdout",
     "output_type": "stream",
     "text": [
      "rms error for the training set is: 3.640345489368778\n",
      "rms error for the test set is: 3.9085603448797346\n"
     ]
    }
   ],
   "source": [
    "#------Evaluation --------------\n",
    "\n",
    "def rmse(predictions, targets):\n",
    "    return np.sqrt(((predictions - targets) ** 2).mean())\n",
    "\n",
    "\n",
    "rmse_val_train = rmse(pred_train, y_train)\n",
    "print(\"rms error for the training set is: \" + str(rmse_val_train))\n",
    "\n",
    "rmse_val_test = rmse(pred_test, y_test)\n",
    "print(\"rms error for the test set is: \" + str(rmse_val_test))\n"
   ]
  },
  {
   "cell_type": "raw",
   "metadata": {},
   "source": [
    "Repeating for the other two features"
   ]
  },
  {
   "cell_type": "code",
   "execution_count": 11,
   "metadata": {},
   "outputs": [],
   "source": [
    "# define batch_gradient_descent function based on Input and target values\n",
    "def batch_gradient_descent(X,Y):\n",
    "    # construct input and target values\n",
    "    n = len(X)\n",
    "    X_arr=np.array(X).reshape(n,1)\n",
    "    y_arr=np.array(Y).reshape(n,1)\n",
    "    # normalization of feature and target\n",
    "    x = np.c_[np.ones((n,1)),(X_arr-np.min(X_arr))/(np.max(X_arr)-np.min(X_arr))]\n",
    "    y = y_arr\n",
    "    #split train test\n",
    "    m=190\n",
    "    x_train=x[:m]\n",
    "    y_train=y[:m]\n",
    "    x_test =x[m:]\n",
    "    y_test =y[m:]\n",
    "    # assing initial parameters \n",
    "    w_gd=np.array([-1,-0.5]).reshape(2,1); lr = 0.01; max_iteration = 500\n",
    "    print ('initial value of parameters:', w_gd)\n",
    "    cos_func_val=np.zeros((max_iteration,1))\n",
    "    \n",
    "    for i in range(max_iteration):\n",
    "        thetax = x_train.dot(w_gd)\n",
    "        #gradient of cost function\n",
    "        grad = (1/m)*(np.transpose(x_train).dot(thetax-y_train))\n",
    "        #update weight vectors\n",
    "        w_gd = w_gd - lr*grad\n",
    "        #calculate cost function during iteration for plotting\n",
    "        cos_func_val[i] = (1/m)*(thetax-y_train).T.dot(thetax-y_train)\n",
    "\n",
    "    print('weight vectors:',w_gd)\n",
    "    \n",
    "    plt.plot(cos_func_val[0:i])\n",
    "    plt.xlabel('iteration number');plt.ylabel('cost function value')\n",
    "    plt.show()\n",
    "    \n",
    "    pred_train = x_train.dot(w_gd)\n",
    "    pred_test= x_test.dot(w_gd)\n",
    "    #------Evaluation --------------\n",
    "    def rmse(predictions, targets):\n",
    "        return np.sqrt(((predictions - targets) ** 2).mean())\n",
    "    \n",
    "    rmse_val_train = rmse(pred_train, y_train)\n",
    "    print(\"rms error for the training set is: \" + str(rmse_val_train))\n",
    "    \n",
    "    rmse_val_test = rmse(pred_test, y_test)\n",
    "    print(\"rms error for the test set is: \" + str(rmse_val_test))\n",
    "    return"
   ]
  },
  {
   "cell_type": "code",
   "execution_count": 12,
   "metadata": {},
   "outputs": [],
   "source": [
    "data = pd.read_csv('./Advertising.csv')"
   ]
  },
  {
   "cell_type": "code",
   "execution_count": 13,
   "metadata": {
    "scrolled": true
   },
   "outputs": [
    {
     "name": "stdout",
     "output_type": "stream",
     "text": [
      "initial value of parameters: [[-1. ]\n",
      " [-0.5]]\n",
      "weight vectors: [[10.11283407]\n",
      " [ 8.27183129]]\n"
     ]
    },
    {
     "data": {
      "image/png": "[encoded data removed]",
      "text/plain": [
       "<Figure size 432x288 with 1 Axes>"
      ]
     },
     "metadata": {
      "needs_background": "light"
     },
     "output_type": "display_data"
    },
    {
     "name": "stdout",
     "output_type": "stream",
     "text": [
      "rms error for the training set is: 3.640345489368778\n",
      "rms error for the test set is: 3.9085603448797346\n"
     ]
    }
   ],
   "source": [
    "batch_gradient_descent(data['TV'],data['Sales'])"
   ]
  },
  {
   "cell_type": "code",
   "execution_count": 14,
   "metadata": {},
   "outputs": [
    {
     "name": "stdout",
     "output_type": "stream",
     "text": [
      "initial value of parameters: [[-1. ]\n",
      " [-0.5]]\n",
      "weight vectors: [[10.82212248]\n",
      " [ 7.01320058]]\n"
     ]
    },
    {
     "data": {
      "image/png": "[encoded data removed]",
      "text/plain": [
       "<Figure size 432x288 with 1 Axes>"
      ]
     },
     "metadata": {
      "needs_background": "light"
     },
     "output_type": "display_data"
    },
    {
     "name": "stdout",
     "output_type": "stream",
     "text": [
      "rms error for the training set is: 4.357323162371344\n",
      "rms error for the test set is: 4.200425795112539\n"
     ]
    }
   ],
   "source": [
    "batch_gradient_descent(data['Radio'],data['Sales'])"
   ]
  },
  {
   "cell_type": "code",
   "execution_count": 15,
   "metadata": {
    "scrolled": true
   },
   "outputs": [
    {
     "name": "stdout",
     "output_type": "stream",
     "text": [
      "initial value of parameters: [[-1. ]\n",
      " [-0.5]]\n",
      "weight vectors: [[12.9666593 ]\n",
      " [ 3.83741415]]\n"
     ]
    },
    {
     "data": {
      "image/png": "[encoded data removed]",
      "text/plain": [
       "<Figure size 432x288 with 1 Axes>"
      ]
     },
     "metadata": {
      "needs_background": "light"
     },
     "output_type": "display_data"
    },
    {
     "name": "stdout",
     "output_type": "stream",
     "text": [
      "rms error for the training set is: 5.06890536639136\n",
      "rms error for the test set is: 5.427909854899054\n"
     ]
    }
   ],
   "source": [
    "batch_gradient_descent(data['Newspaper'],data['Sales'])"
   ]
  },
  {
   "cell_type": "raw",
   "metadata": {},
   "source": [
    "comparing three models , sale prediction based on TV Input feature gives the best prediction on test set ."
   ]
  },
  {
   "cell_type": "code",
   "execution_count": null,
   "metadata": {},
   "outputs": [],
   "source": []
  }
 ],
 "metadata": {
  "kernelspec": {
   "display_name": "Python 3",
   "language": "python",
   "name": "python3"
  },
  "language_info": {
   "codemirror_mode": {
    "name": "ipython",
    "version": 3
   },
   "file_extension": ".py",
   "mimetype": "text/x-python",
   "name": "python",
   "nbconvert_exporter": "python",
   "pygments_lexer": "ipython3",
   "version": "3.7.2"
  }
 },
 "nbformat": 4,
 "nbformat_minor": 2
}
